{
  "nbformat": 4,
  "nbformat_minor": 0,
  "metadata": {
    "colab": {
      "provenance": []
    },
    "kernelspec": {
      "name": "python3",
      "display_name": "Python 3"
    },
    "language_info": {
      "name": "python"
    }
  },
  "cells": [
    {
      "cell_type": "code",
      "execution_count": 1,
      "metadata": {
        "id": "iqb5F9-EwI3o"
      },
      "outputs": [],
      "source": [
        "import os\n",
        "import requests\n",
        "from bs4 import BeautifulSoup\n",
        "from urllib.parse import urljoin"
      ]
    },
    {
      "cell_type": "code",
      "source": [
        "def download_images(url, folder_path='C:\\\\Users\\\\inven\\\\OneDrive\\\\Desktop\\\\scrapedImages'):\n",
        "    # Create a folder to save the images\n",
        "    os.makedirs(folder_path, exist_ok=True)\n",
        "\n",
        "    # Send a GET request to the URL\n",
        "    response = requests.get(url)\n",
        "\n",
        "    # Parse the HTML content\n",
        "    soup = BeautifulSoup(response.text, 'html.parser')\n",
        "\n",
        "    # Find all image tags\n",
        "    img_tags = soup.find_all('img')\n",
        "\n",
        "    # Download each image\n",
        "    for img_tag in img_tags:\n",
        "        img_url = img_tag.get('src')\n",
        "        img_url = urljoin(url, img_url)  # Handle relative URLs\n",
        "\n",
        "        # Get the image content\n",
        "        img_data = requests.get(img_url).content\n",
        "\n",
        "        # Save the image to the folder\n",
        "        img_name = os.path.join(folder_path, os.path.basename(img_url))\n",
        "        with open(img_name, 'wb') as img_file:\n",
        "            img_file.write(img_data)\n",
        "            print(f\"Downloaded: {img_name}\")\n",
        "\n",
        "if __name__ == \"__main__\":\n",
        "\n",
        "\n",
        "    website_url = 'https://www.google.com/search?q=african+heritage+art&tbm=isch&hl=en&sa=X&ved=2ahUKEwj6ldLegsGCAxVxrCcCHW6MB4QQrNwCKAB6BQgBEKAB&biw=1349&bih=625'\n",
        "    download_images(website_url)"
      ],
      "metadata": {
        "colab": {
          "base_uri": "https://localhost:8080/"
        },
        "id": "wz_CMRpgwSiE",
        "outputId": "fd79fa3c-209c-4c86-da84-e02086bafaee"
      },
      "execution_count": 5,
      "outputs": [
        {
          "output_type": "stream",
          "name": "stdout",
          "text": [
            "Downloaded: C:\\Users\\inven\\OneDrive\\Desktop\\scrapedImages/googlelogo_desk_heirloom_color_150x55dp.gif\n",
            "Downloaded: C:\\Users\\inven\\OneDrive\\Desktop\\scrapedImages/images?q=tbn:ANd9GcQjHNHLhRt_tHWjMF5kvKZUyVHPKdiWzZSOObkC7fj8aVyXtirmbu93nXon6A&s\n",
            "Downloaded: C:\\Users\\inven\\OneDrive\\Desktop\\scrapedImages/images?q=tbn:ANd9GcTKin7nTtx_BPtH_DNi7KHMeAWgdosLYSrBj9JpzpP12u8WS-BLIPU_Gzs9qg&s\n",
            "Downloaded: C:\\Users\\inven\\OneDrive\\Desktop\\scrapedImages/images?q=tbn:ANd9GcQIwdyVFAhG2-Wd2g6x59rdZUSgUhFEpGj4WSvwAiSqsWuemsSAmSRdbioZmw&s\n",
            "Downloaded: C:\\Users\\inven\\OneDrive\\Desktop\\scrapedImages/images?q=tbn:ANd9GcRdLJMMzJrC4-ARt0FQFJa0uGS7V2enG4Sb69E1m8rvEAmR8YHYwEVC74j7kw&s\n",
            "Downloaded: C:\\Users\\inven\\OneDrive\\Desktop\\scrapedImages/images?q=tbn:ANd9GcTJttpFY4ulay6smd7Z6OCpehp3EsjoxYbHAZ2XdUwwwbsaiX1mYjC0iX2hWg&s\n",
            "Downloaded: C:\\Users\\inven\\OneDrive\\Desktop\\scrapedImages/images?q=tbn:ANd9GcTH6bx_0Q3joeR55AGTcwZMikwI0ng2uyi_aiBEJ3ZxeOslZN9OZrCb9Dp9kMM&s\n",
            "Downloaded: C:\\Users\\inven\\OneDrive\\Desktop\\scrapedImages/images?q=tbn:ANd9GcSFzxb_dlpMEOIfl0UsnkzctoM7Ygqu4GnUIZG-DHc-ZsY3VwmJJzhkHE6Ugyc&s\n",
            "Downloaded: C:\\Users\\inven\\OneDrive\\Desktop\\scrapedImages/images?q=tbn:ANd9GcSWcQIp92OML87JLzP8y_OMKGn4tLPu4now7XLzcs9teyo4A_hZZeqQmVSEVw&s\n",
            "Downloaded: C:\\Users\\inven\\OneDrive\\Desktop\\scrapedImages/images?q=tbn:ANd9GcQL5iZuN2QCvrK-QmGL0fgcA5f70hDFujTLr2wlTBolDFOY_Gv1tndBMInJkw&s\n",
            "Downloaded: C:\\Users\\inven\\OneDrive\\Desktop\\scrapedImages/images?q=tbn:ANd9GcSElvR-S0pzaIPxLCskt0HxrIkLi4yu4D29Febb8UocVxzj7egSOTyCMfGE2Q&s\n",
            "Downloaded: C:\\Users\\inven\\OneDrive\\Desktop\\scrapedImages/images?q=tbn:ANd9GcScXkLTwaaPJxq5WaiGZCunI9ffT5oIFKP1l8PQ49hFxNoTq81qU56NbBgf8w&s\n",
            "Downloaded: C:\\Users\\inven\\OneDrive\\Desktop\\scrapedImages/images?q=tbn:ANd9GcTqp6R-h8apS7L3R_0a-0YCLzNAh3lA32y9EUvJxiV3e2HmReyYfbgpDFVHEOs&s\n",
            "Downloaded: C:\\Users\\inven\\OneDrive\\Desktop\\scrapedImages/images?q=tbn:ANd9GcRz9QHaCvaDnpblNXR2AIcKktvihZV_AiA2vIbQjvJTtxdCEdWkrqT1LlSdgw&s\n",
            "Downloaded: C:\\Users\\inven\\OneDrive\\Desktop\\scrapedImages/images?q=tbn:ANd9GcQSvroReF2EKZF_P0V57upZs3t6_w8iEvXSfvBeq-g4bzfeVvYloFVTqt9Go1o&s\n",
            "Downloaded: C:\\Users\\inven\\OneDrive\\Desktop\\scrapedImages/images?q=tbn:ANd9GcQshHL630eKIl_3yjypQ1BwR8nIqFXs9xGrIRWyeBubBEcZyqauB6z0BX8mQtQ&s\n",
            "Downloaded: C:\\Users\\inven\\OneDrive\\Desktop\\scrapedImages/images?q=tbn:ANd9GcSHKw5BWeKKwY9TX9KvAZLgnxkqrc4u1MT8XlYUr8cBUa4JpOGlhkm7-OkLbOY&s\n",
            "Downloaded: C:\\Users\\inven\\OneDrive\\Desktop\\scrapedImages/images?q=tbn:ANd9GcSlJ39wmlCcubK3hT0uB2DMalotnjXN1HT07R823iFXoalIPwTbA9EztrRSqf0&s\n",
            "Downloaded: C:\\Users\\inven\\OneDrive\\Desktop\\scrapedImages/images?q=tbn:ANd9GcQCXgmn0H8EhZa2QpK80DS1WDGyM-mvcL26wXjIcU8Id18bDnbYP1D00Q2alw&s\n",
            "Downloaded: C:\\Users\\inven\\OneDrive\\Desktop\\scrapedImages/images?q=tbn:ANd9GcSmPwc5XJ3EHUcyctmHJWhdSt_Ncqlj12huMZEAw33O4cBmtPu78ACRtJBpKVI&s\n",
            "Downloaded: C:\\Users\\inven\\OneDrive\\Desktop\\scrapedImages/images?q=tbn:ANd9GcQ0MTGs2DhqCkZVGvAz3XBf9yzyTtMkxcLJlUuGO79ztnQaMuTyuyQfD-wzrQ&s\n"
          ]
        }
      ]
    },
    {
      "cell_type": "code",
      "source": [],
      "metadata": {
        "id": "8ouLMlCawhH_"
      },
      "execution_count": null,
      "outputs": []
    }
  ]
}